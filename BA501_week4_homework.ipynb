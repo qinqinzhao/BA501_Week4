{
 "cells": [
  {
   "cell_type": "markdown",
   "metadata": {},
   "source": [
    "## Class 1"
   ]
  },
  {
   "cell_type": "code",
   "execution_count": 23,
   "metadata": {
    "collapsed": true
   },
   "outputs": [],
   "source": [
    "import numpy as np\n",
    "import pandas as pd\n",
    "import matplotlib.pyplot as plt\n",
    "%matplotlib inline"
   ]
  },
  {
   "cell_type": "markdown",
   "metadata": {
    "collapsed": true
   },
   "source": [
    "### Question 1\n",
    "How do you handle duplicate values in a dataset in Python?"
   ]
  },
  {
   "cell_type": "code",
   "execution_count": 16,
   "metadata": {},
   "outputs": [
    {
     "name": "stdout",
     "output_type": "stream",
     "text": [
      "[1 2 3]\n",
      "  name  rank\n",
      "0    a     1\n",
      "2    b     2\n",
      "3    c     3\n"
     ]
    }
   ],
   "source": [
    "# First step: clarification\n",
    "# What do you mean by handle? Remove?\n",
    "# What is the data structure? Duplicate rows/columns in a table? Or duplicate values in a list?\n",
    "\n",
    "# Second step: solve\n",
    "# if in a numpy array\n",
    "a = np.array([1,2,2,3,3])\n",
    "a_dedupe = np.unique(a)\n",
    "print(a_dedupe)\n",
    "\n",
    "# if in a data frame\n",
    "b = pd.DataFrame({\"name\": [\"a\", \"a\", \"b\", \"c\"], \n",
    "                  \"rank\": [1, 1, 2, 3]},\n",
    "                columns = [\"name\", \"rank\"])\n",
    "b_dedupe = b.drop_duplicates(keep = \"first\")\n",
    "print(b_dedupe)"
   ]
  },
  {
   "cell_type": "markdown",
   "metadata": {},
   "source": [
    "### Question 2\n",
    "You are given two tables - friend_request and request_accepted. Friend_request contains requester_id, time and sent_to_id and request_accepted table contains time, acceptor_id and requestor_id. How will you determine the overall acceptance rate of requests? "
   ]
  },
  {
   "cell_type": "code",
   "execution_count": null,
   "metadata": {
    "collapsed": true
   },
   "outputs": [],
   "source": [
    "# Step 1: Clarification\n",
    "# Confirm definition of acceptance rate\n",
    "# Overall: Non-deduped? (the same requester sent requests to the same person several times) Deduped by user?\n",
    "# Step 2: Draw the table schema - speak out your thought process"
   ]
  },
  {
   "cell_type": "code",
   "execution_count": 43,
   "metadata": {},
   "outputs": [
    {
     "data": {
      "text/html": [
       "<div>\n",
       "<style>\n",
       "    .dataframe thead tr:only-child th {\n",
       "        text-align: right;\n",
       "    }\n",
       "\n",
       "    .dataframe thead th {\n",
       "        text-align: left;\n",
       "    }\n",
       "\n",
       "    .dataframe tbody tr th {\n",
       "        vertical-align: top;\n",
       "    }\n",
       "</style>\n",
       "<table border=\"1\" class=\"dataframe\">\n",
       "  <thead>\n",
       "    <tr style=\"text-align: right;\">\n",
       "      <th></th>\n",
       "      <th>requester_id</th>\n",
       "      <th>time</th>\n",
       "      <th>sent_to_id</th>\n",
       "    </tr>\n",
       "  </thead>\n",
       "  <tbody>\n",
       "    <tr>\n",
       "      <th>0</th>\n",
       "      <td>100001</td>\n",
       "      <td>2017-06-05</td>\n",
       "      <td>200001</td>\n",
       "    </tr>\n",
       "    <tr>\n",
       "      <th>1</th>\n",
       "      <td>100001</td>\n",
       "      <td>2017-06-05</td>\n",
       "      <td>200002</td>\n",
       "    </tr>\n",
       "    <tr>\n",
       "      <th>2</th>\n",
       "      <td>100003</td>\n",
       "      <td>2017-06-06</td>\n",
       "      <td>200003</td>\n",
       "    </tr>\n",
       "    <tr>\n",
       "      <th>3</th>\n",
       "      <td>100004</td>\n",
       "      <td>2017-06-07</td>\n",
       "      <td>200004</td>\n",
       "    </tr>\n",
       "    <tr>\n",
       "      <th>4</th>\n",
       "      <td>100004</td>\n",
       "      <td>2017-06-08</td>\n",
       "      <td>200004</td>\n",
       "    </tr>\n",
       "  </tbody>\n",
       "</table>\n",
       "</div>"
      ],
      "text/plain": [
       "   requester_id        time  sent_to_id\n",
       "0        100001  2017-06-05      200001\n",
       "1        100001  2017-06-05      200002\n",
       "2        100003  2017-06-06      200003\n",
       "3        100004  2017-06-07      200004\n",
       "4        100004  2017-06-08      200004"
      ]
     },
     "execution_count": 43,
     "metadata": {},
     "output_type": "execute_result"
    }
   ],
   "source": [
    "# assume that acceptance rate is deduped by user\n",
    "friend_request = pd.DataFrame(\n",
    "    {\n",
    "        \"requester_id\": [100001, 100001, 100003, 100004, 100004],\n",
    "        \"time\": [\"2017-06-05\", \"2017-06-05\", \"2017-06-06\", \"2017-06-07\", \"2017-06-08\"],\n",
    "        \"sent_to_id\" :[200001, 200002, 200003, 200004, 200004]\n",
    "    },\n",
    "    columns = [\"requester_id\", \"time\", \"sent_to_id\"]\n",
    ")\n",
    "friend_request"
   ]
  },
  {
   "cell_type": "code",
   "execution_count": 69,
   "metadata": {},
   "outputs": [
    {
     "data": {
      "text/html": [
       "<div>\n",
       "<style>\n",
       "    .dataframe thead tr:only-child th {\n",
       "        text-align: right;\n",
       "    }\n",
       "\n",
       "    .dataframe thead th {\n",
       "        text-align: left;\n",
       "    }\n",
       "\n",
       "    .dataframe tbody tr th {\n",
       "        vertical-align: top;\n",
       "    }\n",
       "</style>\n",
       "<table border=\"1\" class=\"dataframe\">\n",
       "  <thead>\n",
       "    <tr style=\"text-align: right;\">\n",
       "      <th></th>\n",
       "      <th>time</th>\n",
       "      <th>acceptor_id</th>\n",
       "      <th>requester_id</th>\n",
       "    </tr>\n",
       "  </thead>\n",
       "  <tbody>\n",
       "    <tr>\n",
       "      <th>0</th>\n",
       "      <td>2017-06-05</td>\n",
       "      <td>200001</td>\n",
       "      <td>100001</td>\n",
       "    </tr>\n",
       "    <tr>\n",
       "      <th>1</th>\n",
       "      <td>2017-06-06</td>\n",
       "      <td>200003</td>\n",
       "      <td>100003</td>\n",
       "    </tr>\n",
       "    <tr>\n",
       "      <th>2</th>\n",
       "      <td>2017-06-08</td>\n",
       "      <td>200004</td>\n",
       "      <td>100004</td>\n",
       "    </tr>\n",
       "  </tbody>\n",
       "</table>\n",
       "</div>"
      ],
      "text/plain": [
       "         time  acceptor_id  requester_id\n",
       "0  2017-06-05       200001        100001\n",
       "1  2017-06-06       200003        100003\n",
       "2  2017-06-08       200004        100004"
      ]
     },
     "execution_count": 69,
     "metadata": {},
     "output_type": "execute_result"
    }
   ],
   "source": [
    "request_accepted = pd.DataFrame(\n",
    "    {\n",
    "        \"time\": [\"2017-06-05\", \"2017-06-06\", \"2017-06-08\"],\n",
    "        \"acceptor_id\": [200001, 200003, 200004],\n",
    "        \"requester_id\": [100001, 100003, 100004]\n",
    "    },\n",
    "    columns = [\"time\", \"acceptor_id\", \"requester_id\"]\n",
    ")\n",
    "request_accepted"
   ]
  },
  {
   "cell_type": "code",
   "execution_count": 74,
   "metadata": {},
   "outputs": [
    {
     "data": {
      "text/html": [
       "<div>\n",
       "<style>\n",
       "    .dataframe thead tr:only-child th {\n",
       "        text-align: right;\n",
       "    }\n",
       "\n",
       "    .dataframe thead th {\n",
       "        text-align: left;\n",
       "    }\n",
       "\n",
       "    .dataframe tbody tr th {\n",
       "        vertical-align: top;\n",
       "    }\n",
       "</style>\n",
       "<table border=\"1\" class=\"dataframe\">\n",
       "  <thead>\n",
       "    <tr style=\"text-align: right;\">\n",
       "      <th></th>\n",
       "      <th>requester_id</th>\n",
       "      <th>time_x</th>\n",
       "      <th>sent_to_id</th>\n",
       "      <th>time_y</th>\n",
       "      <th>acceptor_id</th>\n",
       "    </tr>\n",
       "  </thead>\n",
       "  <tbody>\n",
       "    <tr>\n",
       "      <th>0</th>\n",
       "      <td>100001</td>\n",
       "      <td>2017-06-05</td>\n",
       "      <td>200001</td>\n",
       "      <td>2017-06-05</td>\n",
       "      <td>200001.0</td>\n",
       "    </tr>\n",
       "    <tr>\n",
       "      <th>1</th>\n",
       "      <td>100001</td>\n",
       "      <td>2017-06-05</td>\n",
       "      <td>200002</td>\n",
       "      <td>NaN</td>\n",
       "      <td>NaN</td>\n",
       "    </tr>\n",
       "    <tr>\n",
       "      <th>2</th>\n",
       "      <td>100003</td>\n",
       "      <td>2017-06-06</td>\n",
       "      <td>200003</td>\n",
       "      <td>2017-06-06</td>\n",
       "      <td>200003.0</td>\n",
       "    </tr>\n",
       "    <tr>\n",
       "      <th>4</th>\n",
       "      <td>100004</td>\n",
       "      <td>2017-06-08</td>\n",
       "      <td>200004</td>\n",
       "      <td>2017-06-08</td>\n",
       "      <td>200004.0</td>\n",
       "    </tr>\n",
       "  </tbody>\n",
       "</table>\n",
       "</div>"
      ],
      "text/plain": [
       "   requester_id      time_x  sent_to_id      time_y  acceptor_id\n",
       "0        100001  2017-06-05      200001  2017-06-05     200001.0\n",
       "1        100001  2017-06-05      200002         NaN          NaN\n",
       "2        100003  2017-06-06      200003  2017-06-06     200003.0\n",
       "4        100004  2017-06-08      200004  2017-06-08     200004.0"
      ]
     },
     "execution_count": 74,
     "metadata": {},
     "output_type": "execute_result"
    }
   ],
   "source": [
    "# Python solution\n",
    "merged = pd.merge(friend_request, request_accepted, how=\"left\", left_on=[\"requester_id\", \"sent_to_id\"], right_on=[\"requester_id\", \"acceptor_id\"])\n",
    "merged = merged.drop_duplicates([\"requester_id\", \"sent_to_id\"], keep = \"last\")\n",
    "merged"
   ]
  },
  {
   "cell_type": "code",
   "execution_count": 75,
   "metadata": {},
   "outputs": [
    {
     "data": {
      "text/plain": [
       "0.75"
      ]
     },
     "execution_count": 75,
     "metadata": {},
     "output_type": "execute_result"
    }
   ],
   "source": [
    "acceptance_rate = merged[\"acceptor_id\"].count()/merged[\"requester_id\"].count()\n",
    "acceptance_rate"
   ]
  },
  {
   "cell_type": "code",
   "execution_count": null,
   "metadata": {
    "collapsed": true
   },
   "outputs": [],
   "source": [
    "# SQL solution\n",
    "SELECT n_accepted/n_request AS acceptance_rate\n",
    "FROM (\n",
    "    SELECT COUNT(fr.requester_id) AS n_request, COUNT(ra.acceptor_id) AS n_accepted\n",
    "    FROM friend_request fr\n",
    "    LEFT JOIN request_accepted ra ON fr.requester_id=ra.requester_id AND fr.sent_to_id=ra.acceptor_id\n",
    ")"
   ]
  },
  {
   "cell_type": "markdown",
   "metadata": {
    "collapsed": true
   },
   "source": [
    "### Question 3\n",
    "Do some research and summarize the business model of your dream company, or company that you interview with.<br>\n",
    "**Company:**<br>\n",
    "Curriculum Associates<br>\n",
    "**What is the product:**<br>\n",
    "i-Ready Diagnostic & Instruction<br>\n",
    "**Who are the customer:**<br>\n",
    "K-12 students, teachers, school administrators, school district administrators<br>\n",
    "**How do they make money:**<br>\n",
    "Sell subscriptions of i-Ready<br>\n",
    "**Why do you want to work for this company?**<br>\n",
    "Great product; great culture; mission aligns with my passion for edtech<br>\n",
    "**(Optional) If you were CEO, what would you do to increase company’s revenue in the next 5 years?**<br>\n",
    "Increase sales (expand to more schools)"
   ]
  },
  {
   "cell_type": "markdown",
   "metadata": {},
   "source": [
    "## Class 2"
   ]
  },
  {
   "cell_type": "code",
   "execution_count": 76,
   "metadata": {
    "collapsed": true
   },
   "outputs": [],
   "source": [
    "# read data\n",
    "file_location = \"E:/BitTiger BA501/\"\n",
    "file_name = \"orders_new.csv\"\n",
    "my_data = pd.read_csv(file_location + file_name)"
   ]
  },
  {
   "cell_type": "code",
   "execution_count": 77,
   "metadata": {},
   "outputs": [
    {
     "data": {
      "text/html": [
       "<div>\n",
       "<style>\n",
       "    .dataframe thead tr:only-child th {\n",
       "        text-align: right;\n",
       "    }\n",
       "\n",
       "    .dataframe thead th {\n",
       "        text-align: left;\n",
       "    }\n",
       "\n",
       "    .dataframe tbody tr th {\n",
       "        vertical-align: top;\n",
       "    }\n",
       "</style>\n",
       "<table border=\"1\" class=\"dataframe\">\n",
       "  <thead>\n",
       "    <tr style=\"text-align: right;\">\n",
       "      <th></th>\n",
       "      <th>country</th>\n",
       "      <th>date</th>\n",
       "      <th>experiment_id</th>\n",
       "      <th>order_id</th>\n",
       "      <th>spend_usd</th>\n",
       "      <th>user_id</th>\n",
       "      <th>vertical</th>\n",
       "    </tr>\n",
       "  </thead>\n",
       "  <tbody>\n",
       "    <tr>\n",
       "      <th>0</th>\n",
       "      <td>US</td>\n",
       "      <td>2017-04-02</td>\n",
       "      <td>12624549</td>\n",
       "      <td>6720123150182430132</td>\n",
       "      <td>49.99</td>\n",
       "      <td>3659561261588336546</td>\n",
       "      <td>ANDROID_APPS</td>\n",
       "    </tr>\n",
       "    <tr>\n",
       "      <th>1</th>\n",
       "      <td>US</td>\n",
       "      <td>2017-04-01</td>\n",
       "      <td>12624549</td>\n",
       "      <td>17511438899767627798</td>\n",
       "      <td>0.99</td>\n",
       "      <td>3659561261588336546</td>\n",
       "      <td>ANDROID_APPS</td>\n",
       "    </tr>\n",
       "    <tr>\n",
       "      <th>2</th>\n",
       "      <td>US</td>\n",
       "      <td>2017-04-04</td>\n",
       "      <td>12624549</td>\n",
       "      <td>1549342062436664018</td>\n",
       "      <td>39.99</td>\n",
       "      <td>3659561261588336546</td>\n",
       "      <td>ANDROID_APPS</td>\n",
       "    </tr>\n",
       "    <tr>\n",
       "      <th>3</th>\n",
       "      <td>US</td>\n",
       "      <td>2017-04-04</td>\n",
       "      <td>12624549</td>\n",
       "      <td>7771425263197855716</td>\n",
       "      <td>19.99</td>\n",
       "      <td>3659561261588336546</td>\n",
       "      <td>ANDROID_APPS</td>\n",
       "    </tr>\n",
       "    <tr>\n",
       "      <th>4</th>\n",
       "      <td>US</td>\n",
       "      <td>2017-04-01</td>\n",
       "      <td>12624549</td>\n",
       "      <td>17943210556580942992</td>\n",
       "      <td>19.99</td>\n",
       "      <td>3659561261588336546</td>\n",
       "      <td>ANDROID_APPS</td>\n",
       "    </tr>\n",
       "  </tbody>\n",
       "</table>\n",
       "</div>"
      ],
      "text/plain": [
       "  country        date  experiment_id              order_id  spend_usd  \\\n",
       "0      US  2017-04-02       12624549   6720123150182430132      49.99   \n",
       "1      US  2017-04-01       12624549  17511438899767627798       0.99   \n",
       "2      US  2017-04-04       12624549   1549342062436664018      39.99   \n",
       "3      US  2017-04-04       12624549   7771425263197855716      19.99   \n",
       "4      US  2017-04-01       12624549  17943210556580942992      19.99   \n",
       "\n",
       "               user_id      vertical  \n",
       "0  3659561261588336546  ANDROID_APPS  \n",
       "1  3659561261588336546  ANDROID_APPS  \n",
       "2  3659561261588336546  ANDROID_APPS  \n",
       "3  3659561261588336546  ANDROID_APPS  \n",
       "4  3659561261588336546  ANDROID_APPS  "
      ]
     },
     "execution_count": 77,
     "metadata": {},
     "output_type": "execute_result"
    }
   ],
   "source": [
    "my_data.head(5)"
   ]
  },
  {
   "cell_type": "markdown",
   "metadata": {},
   "source": [
    "### Question 1\n",
    "Using our data, draw a histogram which plots both US and JP data on the same plot."
   ]
  },
  {
   "cell_type": "code",
   "execution_count": 88,
   "metadata": {},
   "outputs": [
    {
     "data": {
      "text/plain": [
       "<matplotlib.legend.Legend at 0x24ede373048>"
      ]
     },
     "execution_count": 88,
     "metadata": {},
     "output_type": "execute_result"
    },
    {
     "data": {
      "image/png": "[encoded data removed]",
      "text/plain": [
       "<matplotlib.figure.Figure at 0x24ede5d6160>"
      ]
     },
     "metadata": {},
     "output_type": "display_data"
    }
   ],
   "source": [
    "my_series_jp = my_data[\"spend_usd\"][(my_data.spend_usd < 20) & (my_data.country == \"JP\")]\n",
    "my_series_us = my_data[\"spend_usd\"][(my_data.spend_usd < 20) & (my_data.country == \"US\")]\n",
    "\n",
    "fig, ax = plt.subplots() \n",
    "ax.hist(my_series_us, bins=20, color = \"#ff7733\", edgecolor=\"black\", label=\"US\")\n",
    "ax.hist(my_series_jp, bins=20, color = \"#ffaa80\", edgecolor=\"black\", label='JP')\n",
    "\n",
    "ax.set_title(\"US vs JP\")\n",
    "ax.set_ylabel(\"Buyer count\") \n",
    "ax.set_xlabel(\"Spend\")\n",
    "\n",
    "plt.legend([\"US\", \"JP\"], loc=\"upper right\")"
   ]
  },
  {
   "cell_type": "markdown",
   "metadata": {},
   "source": [
    "### Question 2\n",
    "Similarly to PrintDailyTimeSeries() in the sample code, write a Python function called PrintCumulativeTimeSeries(). \n",
    "Specifically:\n",
    " \n",
    "The function takes three inputs:\n",
    "* experiment_id\n",
    "* country\n",
    "* vertical\n",
    " \n",
    "The function produces two outputs:\n",
    "* A time series chart showing the cumulative uplift (hint: search for cumsum)\n",
    "* Print out the cumulative % uplift on revenue, experiment vs. control. Hint: (red - blue) / blue %"
   ]
  },
  {
   "cell_type": "code",
   "execution_count": null,
   "metadata": {
    "collapsed": true
   },
   "outputs": [],
   "source": [
    "# Why people care more about cumulative?\n",
    "# Daily data has too much noise, e.g. sales promotion on one day\n",
    "# Hard to compare"
   ]
  },
  {
   "cell_type": "code",
   "execution_count": 200,
   "metadata": {
    "collapsed": true
   },
   "outputs": [],
   "source": [
    "import datetime"
   ]
  },
  {
   "cell_type": "code",
   "execution_count": 137,
   "metadata": {},
   "outputs": [
    {
     "name": "stdout",
     "output_type": "stream",
     "text": [
      "experiment_id:\n",
      "[12624548 12624549]\n",
      "country:\n",
      "['JP' 'US']\n",
      "vertical:\n",
      "['ANDROID_APPS' 'COMMERCE' 'MAGAZINES' 'MULTI_CONTAINER' 'MUSIC' 'OCEAN'\n",
      " 'YOUTUBE']\n"
     ]
    }
   ],
   "source": [
    "e = my_data.experiment_id\n",
    "print(\"experiment_id:\")\n",
    "print(np.unique(a))\n",
    "\n",
    "c = my_data.country\n",
    "print(\"country:\")\n",
    "print(np.unique(c))\n",
    "\n",
    "v = my_data.vertical\n",
    "print(\"vertical:\")\n",
    "print(np.unique(v))"
   ]
  },
  {
   "cell_type": "code",
   "execution_count": 165,
   "metadata": {
    "collapsed": true
   },
   "outputs": [],
   "source": [
    "# for any given experiment_id, country, and vertical, return a list of cumulative total spend group by date\n",
    "def get_series(my_data, my_id, my_country, my_vertical):\n",
    "    table = my_data[[\"date\", \"spend_usd\"]][(my_data.experiment_id == my_id) & (my_data.country == my_country)\n",
    "                                           & (my_data.vertical == my_vertical)]\n",
    "    series = table.groupby(\"date\")[\"spend_usd\"].sum()\n",
    "    series = series.cumsum()\n",
    "    revenue = series[1]\n",
    "    return((series, revenue))"
   ]
  },
  {
   "cell_type": "code",
   "execution_count": 167,
   "metadata": {},
   "outputs": [
    {
     "data": {
      "text/plain": [
       "(date\n",
       " 2017-04-01     17746.477584\n",
       " 2017-04-02     32568.287584\n",
       " 2017-04-03     45889.067584\n",
       " 2017-04-04     58814.916693\n",
       " 2017-04-05     71973.334860\n",
       " 2017-04-06     87817.734860\n",
       " 2017-04-07    106219.766257\n",
       " Name: spend_usd, dtype: float64, 32568.287583999503)"
      ]
     },
     "execution_count": 167,
     "metadata": {},
     "output_type": "execute_result"
    }
   ],
   "source": [
    "get_series(my_data, 12624548, \"US\", \"ANDROID_APPS\")"
   ]
  },
  {
   "cell_type": "code",
   "execution_count": 177,
   "metadata": {
    "collapsed": true
   },
   "outputs": [],
   "source": [
    "# for any two series, plot the time series\n",
    "def plot_series(index_series, experiment_series, control_series):\n",
    "    df = pd.DataFrame(\n",
    "        {\n",
    "            \"experiment\": experiment_series.tolist(),\n",
    "            \"control\": control_series.tolist()\n",
    "        },\n",
    "        index = index_series.tolist(), # a range of dates\n",
    "        columns = [\"experiment\", \"control\"]\n",
    "    )\n",
    "    ax = df.plot()\n",
    "    # add title, axis label, and grid\n",
    "    ax.set_title(\"Cumulative Time Series: Experiment vs. Control\")\n",
    "    ax.set_ylabel(\"Cumulative Total Spend\")\n",
    "    ax.grid(True, which=\"both\")\n",
    "    # format date\n",
    "    plt.gcf().autofmt_xdate()"
   ]
  },
  {
   "cell_type": "code",
   "execution_count": 178,
   "metadata": {
    "collapsed": true
   },
   "outputs": [],
   "source": [
    "def print_cumulative_time_series(my_data, experiment_ids, country, vertical):\n",
    "    # make sure our x-axis is consistent\n",
    "    date_series = my_data.date\n",
    "    index_series = np.unique(date_series) # unique date\n",
    "    index_series = np.sort(index_series) # sort by date\n",
    "    \n",
    "    # data grouping\n",
    "    my_data = my_data.sort_values(\"date\", ascending=True, inplace=False)\n",
    "    experiment_series = get_series(my_data, experiment_ids[0], country, vertical)[0]\n",
    "    control_series = get_series(my_data, experiment_ids[1], country, vertical)[0]\n",
    "    experiment_revenue = get_series(my_data, experiment_ids[0], country, vertical)[1]\n",
    "    control_revenue = get_series(my_data, experiment_ids[1], country, vertical)[1]\n",
    "       \n",
    "    print(\"Cumulative impact: \" + str(experiment_revenue/control_revenue*100-100) + \"%\")\n",
    "    plot_series(index_series, experiment_series, control_series)"
   ]
  },
  {
   "cell_type": "code",
   "execution_count": 179,
   "metadata": {},
   "outputs": [
    {
     "name": "stdout",
     "output_type": "stream",
     "text": [
      "Cumulative impact: -3.91258975689%\n"
     ]
    },
    {
     "data": {
      "image/png": "[encoded data removed]",
      "text/plain": [
       "<matplotlib.figure.Figure at 0x24ff1a2bbe0>"
      ]
     },
     "metadata": {},
     "output_type": "display_data"
    }
   ],
   "source": [
    "print_cumulative_time_series(my_data, [12624548, 12624549], \"US\", \"ANDROID_APPS\")"
   ]
  },
  {
   "cell_type": "code",
   "execution_count": 180,
   "metadata": {},
   "outputs": [
    {
     "name": "stdout",
     "output_type": "stream",
     "text": [
      "Cumulative impact: 15.2486112503%\n"
     ]
    },
    {
     "data": {
      "image/png": "[encoded data removed]",
      "text/plain": [
       "<matplotlib.figure.Figure at 0x24edea2c710>"
      ]
     },
     "metadata": {},
     "output_type": "display_data"
    }
   ],
   "source": [
    "print_cumulative_time_series(my_data, [12624548, 12624549], \"JP\", \"MUSIC\")"
   ]
  },
  {
   "cell_type": "markdown",
   "metadata": {},
   "source": [
    "### Question 3\n",
    "(Optional) Write a function that can plot 10 (instead of 2) time series in our data."
   ]
  },
  {
   "cell_type": "code",
   "execution_count": 236,
   "metadata": {
    "collapsed": true
   },
   "outputs": [],
   "source": [
    "colors = [\"blue\", \"green\", \"red\", \"cyan\", \"megenta\", \"yellow\", \"black\"]\n",
    "\n",
    "# for any given experiment_id, country, and vertical, return a list of cumulative total spend group by date\n",
    "def get_series_v2(my_data, my_id, my_country, my_vertical):\n",
    "    table = my_data[[\"date\", \"spend_usd\"]][(my_data.experiment_id == my_id) & (my_data.country == my_country)\n",
    "                                           & (my_data.vertical == my_vertical)]\n",
    "    series = table.groupby(\"date\")[\"spend_usd\"].sum()\n",
    "    series = series.cumsum()\n",
    "    return(series)\n",
    "\n",
    "# for any series, plot the time series\n",
    "def plot_series_v2(series, ax, i):\n",
    "    this_label = \"exp\" + str(i+1)\n",
    "    ax.plot(series.tolist(), color = colors[i], label = this_label)\n",
    "    ax.set_title(\"Cumulative Time Series: Multiple Experiments\")\n",
    "    ax.set_ylabel(\"Cumulative Total Spend\")\n",
    "    ax.grid(True, which=\"both\")\n",
    "    ax.legend()\n",
    "    plt.gcf().autofmt_xdate()\n",
    "\n",
    "def print_cumulative_time_series_v2(my_data, experiment_ids, country, vertical):\n",
    "    # make sure our x-axis is consistent\n",
    "    #date_series = my_data.date\n",
    "    #index_series = np.unique(date_series) # unique date\n",
    "    #index_series = np.sort(index_series) # sort by date\n",
    "    \n",
    "    # data grouping\n",
    "    my_data = my_data.sort_values(\"date\", ascending=True, inplace=False)\n",
    "    fig, ax = plt.subplots()\n",
    "    for i in range(len(experiment_ids)):\n",
    "        my_experiment = experiment_ids[i]\n",
    "        this_series = get_series_v2(my_data, my_experiment, country, vertical)  \n",
    "        plot_series_v2(this_series, ax, i)"
   ]
  },
  {
   "cell_type": "code",
   "execution_count": 237,
   "metadata": {},
   "outputs": [
    {
     "data": {
      "image/png": "[encoded data removed]",
      "text/plain": [
       "<matplotlib.figure.Figure at 0x24f79e9f828>"
      ]
     },
     "metadata": {},
     "output_type": "display_data"
    }
   ],
   "source": [
    "print_cumulative_time_series_v2(my_data, [12624548, 12624549], \"US\", \"ANDROID_APPS\")"
   ]
  },
  {
   "cell_type": "code",
   "execution_count": null,
   "metadata": {
    "collapsed": true
   },
   "outputs": [],
   "source": []
  }
 ],
 "metadata": {
  "kernelspec": {
   "display_name": "Python 3",
   "language": "python",
   "name": "python3"
  },
  "language_info": {
   "codemirror_mode": {
    "name": "ipython",
    "version": 3
   },
   "file_extension": ".py",
   "mimetype": "text/x-python",
   "name": "python",
   "nbconvert_exporter": "python",
   "pygments_lexer": "ipython3",
   "version": "3.6.1"
  }
 },
 "nbformat": 4,
 "nbformat_minor": 2
}
