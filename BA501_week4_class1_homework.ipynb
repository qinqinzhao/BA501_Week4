{
 "cells": [
  {
   "cell_type": "code",
   "execution_count": null,
   "metadata": {
    "collapsed": true
   },
   "outputs": [],
   "source": [
    "import numpy as np"
   ]
  },
  {
   "cell_type": "code",
   "execution_count": null,
   "metadata": {
    "collapsed": true
   },
   "outputs": [],
   "source": [
    "### 1. How do you handle duplicate values in a dataset in Python?\n",
    "# if we want to remove duplicate values\n",
    "my_array = np.array([1,2,2,3,3])\n",
    "np.unique(my_array)"
   ]
  },
  {
   "cell_type": "code",
   "execution_count": null,
   "metadata": {
    "collapsed": true
   },
   "outputs": [],
   "source": [
    "### 2. You are given two tables - friend_request and request_accepted. Friend_request contains requester_id, \n",
    "### time and sent_to_id and request_accepted table contains time, acceptor_id and requestor_id. \n",
    "### How will you determine the overall acceptance rate of requests? \n",
    "\n",
    "# using Python\n",
    "friend_request_shape = friend_request.shape\n",
    "request_accepted_shape = request_accepted.shape\n",
    "acceptance_rate = request_accepted_shape[0]/friend_request_shape[0]\n",
    "\n",
    "# using SQL\n",
    "# SELECT COUNT(requester_id) INTO requests\n",
    "# FROM friend_request\n",
    "\n",
    "# SELECT COUNT(acceptor_id) INTO accepted_requests\n",
    "# FROM requested_accepted\n",
    "\n",
    "# acceptance_rate = accepted_requests/requests"
   ]
  },
  {
   "cell_type": "code",
   "execution_count": null,
   "metadata": {
    "collapsed": true
   },
   "outputs": [],
   "source": [
    "### 3. Do some research and summarize the business model of your dream company, or company that you interview with.\n",
    "# What is the product: i-Ready Diagnostic & Instruction\n",
    "# Who are the customer: K-12 students, teachers, school administrators, school district administrators\n",
    "# How do they make money: Sell subscriptions of i-Ready\n",
    "# Why do you want to work for this company? Great product; great culture; mission aligns with my passion for edtech\n",
    "# (Optional) If you were CEO, what would you do to increase company’s revenue in the next 5 years? \n",
    "# Increase sales (expand to more schools)"
   ]
  }
 ],
 "metadata": {
  "kernelspec": {
   "display_name": "Python 3",
   "language": "python",
   "name": "python3"
  },
  "language_info": {
   "codemirror_mode": {
    "name": "ipython",
    "version": 3
   },
   "file_extension": ".py",
   "mimetype": "text/x-python",
   "name": "python",
   "nbconvert_exporter": "python",
   "pygments_lexer": "ipython3",
   "version": "3.6.1"
  }
 },
 "nbformat": 4,
 "nbformat_minor": 2
}
