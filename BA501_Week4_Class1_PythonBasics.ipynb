{
 "cells": [
  {
   "cell_type": "code",
   "execution_count": 51,
   "metadata": {},
   "outputs": [
    {
     "data": {
      "text/html": [
       "<script>jQuery(function() {if (jQuery(\"body.notebook_app\").length == 0) { jQuery(\".input_area\").toggle(); jQuery(\".prompt\").toggle();}});</script>"
      ]
     },
     "metadata": {},
     "output_type": "display_data"
    },
    {
     "data": {
      "text/html": [
       "<button onclick=\"jQuery('.input_area').toggle(); jQuery('.prompt').toggle();\">Toggle code</button>"
      ]
     },
     "metadata": {},
     "output_type": "display_data"
    }
   ],
   "source": [
    "from IPython.display import display\n",
    "from IPython.display import HTML\n",
    "import IPython.core.display as di # Example: di.display_html('<h3>%s:</h3>' % str, raw=True)\n",
    "\n",
    "# This line will hide code by default when the notebook is exported as HTML\n",
    "di.display_html('<script>jQuery(function() {if (jQuery(\"body.notebook_app\").length == 0) { jQuery(\".input_area\").toggle(); jQuery(\".prompt\").toggle();}});</script>', raw=True)\n",
    "\n",
    "# This line will add a button to toggle visibility of code blocks, for use with the HTML export version\n",
    "di.display_html('''<button onclick=\"jQuery('.input_area').toggle(); jQuery('.prompt').toggle();\">Toggle code</button>''', raw=True)"
   ]
  },
  {
   "cell_type": "code",
   "execution_count": 7,
   "metadata": {
    "collapsed": true
   },
   "outputs": [],
   "source": [
    "### import libraries\n",
    "import numpy as np\n",
    "import pandas as pd\n",
    "import scipy"
   ]
  },
  {
   "cell_type": "code",
   "execution_count": 8,
   "metadata": {
    "collapsed": true
   },
   "outputs": [],
   "source": [
    "### variables"
   ]
  },
  {
   "cell_type": "code",
   "execution_count": 11,
   "metadata": {},
   "outputs": [
    {
     "name": "stdout",
     "output_type": "stream",
     "text": [
      "11\n",
      "python\n"
     ]
    }
   ],
   "source": [
    "# number\n",
    "x = 5\n",
    "y = 6\n",
    "print(x + y)\n",
    "\n",
    "# string\n",
    "my_string = \"python\"\n",
    "print(my_string)"
   ]
  },
  {
   "cell_type": "code",
   "execution_count": 12,
   "metadata": {
    "collapsed": true
   },
   "outputs": [],
   "source": [
    "### string operation"
   ]
  },
  {
   "cell_type": "code",
   "execution_count": 18,
   "metadata": {},
   "outputs": [
    {
     "name": "stdout",
     "output_type": "stream",
     "text": [
      "python is good\n",
      "python is 5\n",
      "python\n"
     ]
    }
   ],
   "source": [
    "# length of a string\n",
    "len(my_string)\n",
    "\n",
    "# concatenation\n",
    "print(my_string + \" is good\")\n",
    "\n",
    "# coercion\n",
    "print(my_string + \" is \" + str(5))\n",
    "\n",
    "# visit a character: 0-index\n",
    "my_string[0]\n",
    "my_string[-1]\n",
    "\n",
    "# string manipulations\n",
    "my_string.upper()\n",
    "my_string.replace(\"y\",\"yyyy\") # replace all \"y\"s with \"yyyy\"\n",
    "my_string.find(\"y\")"
   ]
  },
  {
   "cell_type": "code",
   "execution_count": 19,
   "metadata": {
    "collapsed": true
   },
   "outputs": [],
   "source": [
    "### list"
   ]
  },
  {
   "cell_type": "code",
   "execution_count": null,
   "metadata": {
    "collapsed": true
   },
   "outputs": [],
   "source": [
    "colors = [\"red\", \"blue\", \"green\"]\n",
    "#print(colors)\n",
    "#print(colors[0])\n",
    "#print(len(colors))\n",
    "\n",
    "### manipulation\n",
    "# append at the bottom\n",
    "colors.append(\"yellow\")\n",
    "print(colors)\n",
    "\n",
    "# insert at any position\n",
    "colors.insert(1, \"pink\")\n",
    "print(colors)\n",
    "# 能append就不要insert（一个O(1)，一个是O(n)时间复杂度）\n",
    "\n",
    "# remove an element\n",
    "colors.pop(0)\n",
    "colors.remove(\"red\")\n",
    "print(colors)\n",
    "\n",
    "# search for an element\n",
    "colors.index(\"green\")\n",
    "\n",
    "# quiz: what if there is duplicate\n",
    "colors = [\"red\", \"blue\", \"blue\", \"green\"]\n",
    "colors.index(\"blue\") # 1\n",
    "\n",
    "# sort elements by alphabetical order\n",
    "colors = [\"red\", \"blue\", \"green\"]\n",
    "colors.sort()\n",
    "print(colors)\n",
    "\n",
    "# quiz: what about other stuff? remove duplicate?\n",
    "# answer: use numpy which handles this type of stuff"
   ]
  },
  {
   "cell_type": "code",
   "execution_count": 25,
   "metadata": {},
   "outputs": [],
   "source": [
    "### control flow"
   ]
  },
  {
   "cell_type": "code",
   "execution_count": null,
   "metadata": {
    "collapsed": true
   },
   "outputs": [],
   "source": [
    "# if/else\n",
    "speed = 82\n",
    "mood = \"bad\"\n",
    "\n",
    "if speed >= 80:\n",
    "    print 'License and registration please'\n",
    "    if mood == 'terrible' or speed >= 100:\n",
    "        print 'You have the right to remain silent.'\n",
    "    elif mood == 'bad' or speed >= 90:\n",
    "        print \"I'm going to have to write you a ticket.\"\n",
    "    else:\n",
    "        print \"Let's try to keep it under 80 ok?\""
   ]
  },
  {
   "cell_type": "code",
   "execution_count": 27,
   "metadata": {},
   "outputs": [
    {
     "name": "stdout",
     "output_type": "stream",
     "text": [
      "2\n",
      "3\n",
      "5\n",
      "7\n"
     ]
    }
   ],
   "source": [
    "# for loop\n",
    "primes = [2, 3, 5, 7]\n",
    "for prime in primes:\n",
    "    print(prime)"
   ]
  },
  {
   "cell_type": "code",
   "execution_count": 28,
   "metadata": {},
   "outputs": [
    {
     "name": "stdout",
     "output_type": "stream",
     "text": [
      "2\n",
      "\n"
     ]
    }
   ],
   "source": [
    "# tuple\n",
    "my_tuple = (\"price\", 5.7)\n",
    "print(len(my_tuple))\n",
    "print()"
   ]
  },
  {
   "cell_type": "code",
   "execution_count": null,
   "metadata": {
    "collapsed": true
   },
   "outputs": [],
   "source": [
    "### numpy"
   ]
  },
  {
   "cell_type": "code",
   "execution_count": null,
   "metadata": {
    "collapsed": true
   },
   "outputs": [],
   "source": [
    "# create a column vector\n",
    "col_vec = np.array([[1],[2]])\n",
    "print(col_vec)\n",
    "\n",
    "# create a row vector\n",
    "row_vec = np.array([[1,2]])\n",
    "print(row_vec)\n",
    "\n",
    "# create a matrix\n",
    "my_matrix = np.array([[1,2], [3, 4]])\n",
    "print(my_matrix)\n",
    "\n",
    "# inspect dimensions\n",
    "shape = my_matrix.shape\n",
    "print(\"matrix rows\", shape[0], \"columns\", shape[1])\n",
    "\n",
    "# transpose: 转置row and column\n",
    "my_matrix_t = my_matrix.transpose()\n",
    "print(\"transposed matrix\")\n",
    "print(my_matrix_t)\n",
    "\n",
    "# matrix calculation \n",
    "# addition\n",
    "a = np.array([[1, 2], [3, 4]])\n",
    "b = np.array([[1, 2], [3, 4]])\n",
    "print(\"a + b\")\n",
    "print(a + b)\n",
    "\n",
    "# subtraction\n",
    "print(\"a - b\")\n",
    "print(a - b)\n",
    "\n",
    "# multiplication (meaningless)\n",
    "print(\"a * b\")\n",
    "print(a * b)\n",
    "\n",
    "# matrix product\n",
    "print(\"matrix product\")\n",
    "print(np.dot(a, b))\n",
    "\n",
    "# more interesting stuff:\n",
    "# on 1d array, which is essentially a list.\n",
    "my_array = np.array([1, 2, 3, 4])\n",
    "len(my_array)\n",
    "my_array.sum()\n",
    "my_array.max()\n",
    "my_array.mean()\n",
    "\n",
    "# quiz: how to remove duplicates or return unique elements?\n",
    "my_array = np.array([1, 2, 2, 4, 5])\n",
    "np.unique(my_array)\n",
    "\n",
    "# other stuff:\n",
    "# subset\n",
    "my_array[-1]\n",
    "my_array[my_array>2]\n",
    "\n",
    "# add/remove element\n",
    "np.append(my_array, 6)\n",
    "np.insert(my_array, 3, 3)\n",
    "np.delete(my_array, [1])"
   ]
  },
  {
   "cell_type": "code",
   "execution_count": 31,
   "metadata": {
    "collapsed": true
   },
   "outputs": [],
   "source": [
    "### pandas"
   ]
  },
  {
   "cell_type": "code",
   "execution_count": 54,
   "metadata": {},
   "outputs": [
    {
     "data": {
      "text/html": [
       "<div>\n",
       "<style>\n",
       "    .dataframe thead tr:only-child th {\n",
       "        text-align: right;\n",
       "    }\n",
       "\n",
       "    .dataframe thead th {\n",
       "        text-align: left;\n",
       "    }\n",
       "\n",
       "    .dataframe tbody tr th {\n",
       "        vertical-align: top;\n",
       "    }\n",
       "</style>\n",
       "<table border=\"1\" class=\"dataframe\">\n",
       "  <thead>\n",
       "    <tr style=\"text-align: right;\">\n",
       "      <th></th>\n",
       "      <th>country</th>\n",
       "      <th>date</th>\n",
       "      <th>experiment_id</th>\n",
       "      <th>order_id</th>\n",
       "      <th>spend_usd</th>\n",
       "      <th>user_id</th>\n",
       "      <th>vertical</th>\n",
       "    </tr>\n",
       "  </thead>\n",
       "  <tbody>\n",
       "    <tr>\n",
       "      <th>0</th>\n",
       "      <td>US</td>\n",
       "      <td>2017-04-02</td>\n",
       "      <td>12624549</td>\n",
       "      <td>6720123150182430132</td>\n",
       "      <td>49.99</td>\n",
       "      <td>3659561261588336546</td>\n",
       "      <td>ANDROID_APPS</td>\n",
       "    </tr>\n",
       "    <tr>\n",
       "      <th>1</th>\n",
       "      <td>US</td>\n",
       "      <td>2017-04-01</td>\n",
       "      <td>12624549</td>\n",
       "      <td>17511438899767627798</td>\n",
       "      <td>0.99</td>\n",
       "      <td>3659561261588336546</td>\n",
       "      <td>ANDROID_APPS</td>\n",
       "    </tr>\n",
       "    <tr>\n",
       "      <th>2</th>\n",
       "      <td>US</td>\n",
       "      <td>2017-04-04</td>\n",
       "      <td>12624549</td>\n",
       "      <td>1549342062436664018</td>\n",
       "      <td>39.99</td>\n",
       "      <td>3659561261588336546</td>\n",
       "      <td>ANDROID_APPS</td>\n",
       "    </tr>\n",
       "    <tr>\n",
       "      <th>3</th>\n",
       "      <td>US</td>\n",
       "      <td>2017-04-04</td>\n",
       "      <td>12624549</td>\n",
       "      <td>7771425263197855716</td>\n",
       "      <td>19.99</td>\n",
       "      <td>3659561261588336546</td>\n",
       "      <td>ANDROID_APPS</td>\n",
       "    </tr>\n",
       "    <tr>\n",
       "      <th>4</th>\n",
       "      <td>US</td>\n",
       "      <td>2017-04-01</td>\n",
       "      <td>12624549</td>\n",
       "      <td>17943210556580942992</td>\n",
       "      <td>19.99</td>\n",
       "      <td>3659561261588336546</td>\n",
       "      <td>ANDROID_APPS</td>\n",
       "    </tr>\n",
       "  </tbody>\n",
       "</table>\n",
       "</div>"
      ],
      "text/plain": [
       "  country        date  experiment_id              order_id  spend_usd  \\\n",
       "0      US  2017-04-02       12624549   6720123150182430132      49.99   \n",
       "1      US  2017-04-01       12624549  17511438899767627798       0.99   \n",
       "2      US  2017-04-04       12624549   1549342062436664018      39.99   \n",
       "3      US  2017-04-04       12624549   7771425263197855716      19.99   \n",
       "4      US  2017-04-01       12624549  17943210556580942992      19.99   \n",
       "\n",
       "               user_id      vertical  \n",
       "0  3659561261588336546  ANDROID_APPS  \n",
       "1  3659561261588336546  ANDROID_APPS  \n",
       "2  3659561261588336546  ANDROID_APPS  \n",
       "3  3659561261588336546  ANDROID_APPS  \n",
       "4  3659561261588336546  ANDROID_APPS  "
      ]
     },
     "execution_count": 54,
     "metadata": {},
     "output_type": "execute_result"
    }
   ],
   "source": [
    "### pandas data I/O\n",
    "# data import from csv\n",
    "file_location = \"E:/BitTiger BA501/\"\n",
    "file_name = \"orders_new.csv\"\n",
    "my_data = pd.read_csv(file_location + file_name)\n",
    "\n",
    "my_data.head(5)"
   ]
  },
  {
   "cell_type": "code",
   "execution_count": null,
   "metadata": {
    "collapsed": true
   },
   "outputs": [],
   "source": [
    "# pandas basic\n",
    "df = pd.DataFrame(\n",
    "    {\n",
    "        \"customer_id\": [\"A\", \"B\", \"C\"],\n",
    "        \"date\": [\"5/1/2017\", \"5/8/2017\", \"5/11/2017\"],\n",
    "        \"spend\": [10, 5, 20]\n",
    "    },\n",
    "    #index = [1, 2, 3],\n",
    "    columns = [\"customer_id\", \"date\", \"spend\"]\n",
    ")\n",
    "\n",
    "# describe table: number of rows and columns\n",
    "df.shape\n",
    "\n",
    "# subset columns\n",
    "df[\"spend\"]\n",
    "df[[\"customer_id\", \"spend\"]]\n",
    "\n",
    "# subset rows\n",
    "df.sample(n = 1)\n",
    "df.head(n = 1)"
   ]
  },
  {
   "cell_type": "code",
   "execution_count": null,
   "metadata": {
    "collapsed": true
   },
   "outputs": [],
   "source": [
    "# select columns\n",
    "my_data[[\"user_id\",\"date\",\"spend_usd\"]].head(5)\n",
    "my_data[\"user_id\"].head(5)\n",
    "np.unique(my_data[\"country\"])\n",
    "# [[]] is the data frame format; no [] is the series format\n",
    "\n",
    "# select rows\n",
    "my_data[1:10]\n",
    "my_data[(my_data.user_id == 7250841187939126009) & (my_data.country == \"JP\")]\n",
    "my_data[[\"user_id\",\"date\",\"spend_usd\"]][(my_data.user_id == 7250841187939126009) & (my_data.country == \"JP\")]\n",
    "# similar to sql where\n",
    "\n",
    "# create new columns\n",
    "my_data[\"new_column\"] = my_data[\"spend_used\"]*10\n",
    "my_data.head(5)\n",
    "\n",
    "# drop this column\n",
    "my_data = my_data.drop(\"spend_usd_whole\", axis = 1)\n",
    "my_data.head(5)"
   ]
  },
  {
   "cell_type": "code",
   "execution_count": null,
   "metadata": {
    "collapsed": true
   },
   "outputs": [],
   "source": [
    "# change data type\n",
    "# change date into date format\n",
    "my_data.date = pd.to_datetime(my_data.date, format='%Y%m%d')\n",
    "my_data.head(4)"
   ]
  },
  {
   "cell_type": "code",
   "execution_count": null,
   "metadata": {
    "collapsed": true
   },
   "outputs": [],
   "source": [
    "### pandas SQL-like operations"
   ]
  },
  {
   "cell_type": "code",
   "execution_count": null,
   "metadata": {
    "collapsed": true
   },
   "outputs": [],
   "source": [
    "# select *: see \"select columns\"\n",
    "\n",
    "# where: see \"select rows\"\n",
    "\n",
    "# group by: groupby()\n",
    "result = my_data.groupby([\"country\"])[\"spend_usd\"].sum()\n",
    "# primary key will be changed to country - how to change it back?\n",
    "result = my_data.groupby([\"country\"])[\"spend_usd\"].sum().reset_index()\n",
    "result = result.set_index(\"country\")\n",
    "result\n",
    "\n",
    "# save as a new dataframe, and reset your index\n",
    "# order by: sort_values()\n",
    "my_data = my_data.sort_values(['country','date'],ascending=[True, True])\n",
    "my_data.head(5)\n",
    "\n",
    "# join: merge()\n",
    "# left join\n",
    "#pd.merge(left_table, right_table,how='left',on='x1')\n",
    "\n",
    "# union: concat(), stack()\n",
    "#pd.concat([left_table, right_table])"
   ]
  }
 ],
 "metadata": {
  "kernelspec": {
   "display_name": "Python 3",
   "language": "python",
   "name": "python3"
  },
  "language_info": {
   "codemirror_mode": {
    "name": "ipython",
    "version": 3
   },
   "file_extension": ".py",
   "mimetype": "text/x-python",
   "name": "python",
   "nbconvert_exporter": "python",
   "pygments_lexer": "ipython3",
   "version": "3.6.1"
  }
 },
 "nbformat": 4,
 "nbformat_minor": 2
}
